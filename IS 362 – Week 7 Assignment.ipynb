{
 "cells": [
  {
   "cell_type": "markdown",
   "metadata": {},
   "source": [
    "# IS 362 – Week 7 Assignment"
   ]
  },
  {
   "cell_type": "markdown",
   "metadata": {},
   "source": [
    "### Tasks:\n",
    "Choose six recent popular movies. Ask at least five people that you know (friends, family, classmates, imaginary friends) to rate each of these movies that they have seen on a scale of 1 to 5. There should be at least one movie that not everyone has seen!\n",
    "Take the results (observations) and store them somewhere (like a SQL database, or a .CSV file). Load the information into a pandas dataframe. Your solution should include Python and pandas code that accomplishes the following:\n",
    "   \n",
    "1. Load the ratings by user information that you collected into a pandas dataframe.\n",
    "2. Show the average ratings for each user and each movie.\n",
    "3. Create a new pandas dataframe, with normalized ratings for each user. Again, show the average ratings for each user and each movie.\n",
    "4. Provide a text-based conclusion: explain what might be advantages and disadvantages of using normalized ratings instead of the actual ratings.\n",
    "5. [Extra credit] Create another new pandas dataframe, with standardized ratings for each user. Once again, show the average ratings for each user and each movie.\n",
    "\n",
    "You may find this short article on normalization and standardization to be useful: \n",
    "http://bi-analytics.org/topic/9-standardization-vs-normalization/\n",
    "\n",
    "Your deliverables should include your source data and a Jupyter Notebook, posted to GitHub.\n",
    "This is by design a very open ended assignment. A variety of reasonable approaches are acceptable.\n",
    "You may work in a small group on this assignment. If you work in a group, each group member should indicate who they worked with, and all group members should individually submit their assignment.\n",
    "Please start early, and do work that you would want to include in a “presentations portfolio” that you might share in a job interview with a potential employer! You are encouraged to share thoughts, ask, and answer clarifying questions in the “Week 7: Data Aggregation” forum."
   ]
  },
  {
   "cell_type": "markdown",
   "metadata": {},
   "source": [
    "##### 1. Import pandas and read review_popular_movies data from the CSV file."
   ]
  },
  {
   "cell_type": "code",
   "execution_count": 31,
   "metadata": {
    "collapsed": true
   },
   "outputs": [],
   "source": [
    "import pandas as pd\n",
    "import numpy as np"
   ]
  },
  {
   "cell_type": "code",
   "execution_count": 35,
   "metadata": {},
   "outputs": [
    {
     "data": {
      "text/html": [
       "<div>\n",
       "<style>\n",
       "    .dataframe thead tr:only-child th {\n",
       "        text-align: right;\n",
       "    }\n",
       "\n",
       "    .dataframe thead th {\n",
       "        text-align: left;\n",
       "    }\n",
       "\n",
       "    .dataframe tbody tr th {\n",
       "        vertical-align: top;\n",
       "    }\n",
       "</style>\n",
       "<table border=\"1\" class=\"dataframe\">\n",
       "  <thead>\n",
       "    <tr style=\"text-align: right;\">\n",
       "      <th></th>\n",
       "      <th>Reviewer_Name</th>\n",
       "      <th>Moana</th>\n",
       "      <th>Star Wars</th>\n",
       "      <th>Logan</th>\n",
       "      <th>Wonder Woman</th>\n",
       "      <th>Spider Man</th>\n",
       "      <th>John Wick</th>\n",
       "    </tr>\n",
       "  </thead>\n",
       "  <tbody>\n",
       "    <tr>\n",
       "      <th>0</th>\n",
       "      <td>Max</td>\n",
       "      <td>NaN</td>\n",
       "      <td>5.0</td>\n",
       "      <td>5.0</td>\n",
       "      <td>3.0</td>\n",
       "      <td>4.0</td>\n",
       "      <td>5</td>\n",
       "    </tr>\n",
       "    <tr>\n",
       "      <th>1</th>\n",
       "      <td>Heather</td>\n",
       "      <td>5.0</td>\n",
       "      <td>NaN</td>\n",
       "      <td>4.0</td>\n",
       "      <td>5.0</td>\n",
       "      <td>3.0</td>\n",
       "      <td>3</td>\n",
       "    </tr>\n",
       "    <tr>\n",
       "      <th>2</th>\n",
       "      <td>John</td>\n",
       "      <td>3.0</td>\n",
       "      <td>4.0</td>\n",
       "      <td>NaN</td>\n",
       "      <td>5.0</td>\n",
       "      <td>4.0</td>\n",
       "      <td>2</td>\n",
       "    </tr>\n",
       "    <tr>\n",
       "      <th>3</th>\n",
       "      <td>Lawrence</td>\n",
       "      <td>4.0</td>\n",
       "      <td>3.0</td>\n",
       "      <td>4.0</td>\n",
       "      <td>NaN</td>\n",
       "      <td>3.0</td>\n",
       "      <td>5</td>\n",
       "    </tr>\n",
       "    <tr>\n",
       "      <th>4</th>\n",
       "      <td>Alfred</td>\n",
       "      <td>1.0</td>\n",
       "      <td>2.0</td>\n",
       "      <td>3.0</td>\n",
       "      <td>4.0</td>\n",
       "      <td>NaN</td>\n",
       "      <td>5</td>\n",
       "    </tr>\n",
       "  </tbody>\n",
       "</table>\n",
       "</div>"
      ],
      "text/plain": [
       "  Reviewer_Name  Moana  Star Wars  Logan  Wonder Woman  Spider Man  John Wick\n",
       "0           Max    NaN        5.0    5.0           3.0         4.0          5\n",
       "1       Heather    5.0        NaN    4.0           5.0         3.0          3\n",
       "2          John    3.0        4.0    NaN           5.0         4.0          2\n",
       "3      Lawrence    4.0        3.0    4.0           NaN         3.0          5\n",
       "4        Alfred    1.0        2.0    3.0           4.0         NaN          5"
      ]
     },
     "execution_count": 35,
     "metadata": {},
     "output_type": "execute_result"
    }
   ],
   "source": [
    "review_movies = pd.read_csv('review_popular_movies.csv')\n",
    "review_movies"
   ]
  },
  {
   "cell_type": "markdown",
   "metadata": {},
   "source": [
    "##### 2. Show the average ratings for each user and each movie."
   ]
  },
  {
   "cell_type": "code",
   "execution_count": 36,
   "metadata": {},
   "outputs": [
    {
     "data": {
      "text/plain": [
       "Reviewer_Name\n",
       "Max         4.0\n",
       "Heather     4.0\n",
       "John        4.0\n",
       "Lawrence    4.0\n",
       "Alfred      3.0\n",
       "dtype: float64"
      ]
     },
     "execution_count": 36,
     "metadata": {},
     "output_type": "execute_result"
    }
   ],
   "source": [
    "review_movies = review_movies.set_index('Reviewer_Name')\n",
    "review_avg = review_movies.mean(axis=1).round(decimals=0)\n",
    "movie_avg = review_movies.mean().round(decimals=0)\n",
    "review_avg"
   ]
  },
  {
   "cell_type": "code",
   "execution_count": 37,
   "metadata": {},
   "outputs": [
    {
     "data": {
      "text/plain": [
       "Moana           3.0\n",
       "Star Wars       4.0\n",
       "Logan           4.0\n",
       "Wonder Woman    4.0\n",
       "Spider Man      4.0\n",
       "John Wick       4.0\n",
       "dtype: float64"
      ]
     },
     "execution_count": 37,
     "metadata": {},
     "output_type": "execute_result"
    }
   ],
   "source": [
    "movie_avg"
   ]
  },
  {
   "cell_type": "markdown",
   "metadata": {},
   "source": [
    "##### 3. Create a new pandas dataframe, with normalized ratings for each user."
   ]
  },
  {
   "cell_type": "code",
   "execution_count": 45,
   "metadata": {},
   "outputs": [
    {
     "data": {
      "text/html": [
       "<div>\n",
       "<style>\n",
       "    .dataframe thead tr:only-child th {\n",
       "        text-align: right;\n",
       "    }\n",
       "\n",
       "    .dataframe thead th {\n",
       "        text-align: left;\n",
       "    }\n",
       "\n",
       "    .dataframe tbody tr th {\n",
       "        vertical-align: top;\n",
       "    }\n",
       "</style>\n",
       "<table border=\"1\" class=\"dataframe\">\n",
       "  <thead>\n",
       "    <tr style=\"text-align: right;\">\n",
       "      <th></th>\n",
       "      <th>Moana</th>\n",
       "      <th>Star Wars</th>\n",
       "      <th>Logan</th>\n",
       "      <th>Wonder Woman</th>\n",
       "      <th>Spider Man</th>\n",
       "      <th>John Wick</th>\n",
       "    </tr>\n",
       "    <tr>\n",
       "      <th>Reviewer_Name</th>\n",
       "      <th></th>\n",
       "      <th></th>\n",
       "      <th></th>\n",
       "      <th></th>\n",
       "      <th></th>\n",
       "      <th></th>\n",
       "    </tr>\n",
       "  </thead>\n",
       "  <tbody>\n",
       "    <tr>\n",
       "      <th>Max</th>\n",
       "      <td>NaN</td>\n",
       "      <td>1.000000</td>\n",
       "      <td>1.0</td>\n",
       "      <td>0.0</td>\n",
       "      <td>1.0</td>\n",
       "      <td>1.000000</td>\n",
       "    </tr>\n",
       "    <tr>\n",
       "      <th>Heather</th>\n",
       "      <td>1.00</td>\n",
       "      <td>NaN</td>\n",
       "      <td>0.5</td>\n",
       "      <td>1.0</td>\n",
       "      <td>0.0</td>\n",
       "      <td>0.333333</td>\n",
       "    </tr>\n",
       "    <tr>\n",
       "      <th>John</th>\n",
       "      <td>0.50</td>\n",
       "      <td>0.666667</td>\n",
       "      <td>NaN</td>\n",
       "      <td>1.0</td>\n",
       "      <td>1.0</td>\n",
       "      <td>0.000000</td>\n",
       "    </tr>\n",
       "    <tr>\n",
       "      <th>Lawrence</th>\n",
       "      <td>0.75</td>\n",
       "      <td>0.333333</td>\n",
       "      <td>0.5</td>\n",
       "      <td>NaN</td>\n",
       "      <td>0.0</td>\n",
       "      <td>1.000000</td>\n",
       "    </tr>\n",
       "    <tr>\n",
       "      <th>Alfred</th>\n",
       "      <td>0.00</td>\n",
       "      <td>0.000000</td>\n",
       "      <td>0.0</td>\n",
       "      <td>0.5</td>\n",
       "      <td>NaN</td>\n",
       "      <td>1.000000</td>\n",
       "    </tr>\n",
       "  </tbody>\n",
       "</table>\n",
       "</div>"
      ],
      "text/plain": [
       "               Moana  Star Wars  Logan  Wonder Woman  Spider Man  John Wick\n",
       "Reviewer_Name                                                              \n",
       "Max              NaN   1.000000    1.0           0.0         1.0   1.000000\n",
       "Heather         1.00        NaN    0.5           1.0         0.0   0.333333\n",
       "John            0.50   0.666667    NaN           1.0         1.0   0.000000\n",
       "Lawrence        0.75   0.333333    0.5           NaN         0.0   1.000000\n",
       "Alfred          0.00   0.000000    0.0           0.5         NaN   1.000000"
      ]
     },
     "execution_count": 45,
     "metadata": {},
     "output_type": "execute_result"
    }
   ],
   "source": [
    "x = review_movies\n",
    "normalization = (x - x.min()) / (x.max() - x.min())\n",
    "normalization"
   ]
  },
  {
   "cell_type": "markdown",
   "metadata": {},
   "source": [
    "##### 3.1 Show the average ratings for each user and each movie."
   ]
  },
  {
   "cell_type": "code",
   "execution_count": 46,
   "metadata": {},
   "outputs": [
    {
     "data": {
      "text/plain": [
       "Moana           0.56250\n",
       "Star Wars       0.50000\n",
       "Logan           0.50000\n",
       "Wonder Woman    0.62500\n",
       "Spider Man      0.50000\n",
       "John Wick       0.66667\n",
       "dtype: float64"
      ]
     },
     "execution_count": 46,
     "metadata": {},
     "output_type": "execute_result"
    }
   ],
   "source": [
    "avgmovies = normalization.mean(axis=1).round(decimals=5)\n",
    "avgusers = normalization.mean().round(decimals=5)\n",
    "avgusers"
   ]
  },
  {
   "cell_type": "code",
   "execution_count": 47,
   "metadata": {},
   "outputs": [
    {
     "data": {
      "text/plain": [
       "Reviewer_Name\n",
       "Max         0.80000\n",
       "Heather     0.56667\n",
       "John        0.63333\n",
       "Lawrence    0.51667\n",
       "Alfred      0.30000\n",
       "dtype: float64"
      ]
     },
     "execution_count": 47,
     "metadata": {},
     "output_type": "execute_result"
    }
   ],
   "source": [
    "avgmovies"
   ]
  },
  {
   "cell_type": "markdown",
   "metadata": {},
   "source": [
    "##### 4. Provide a text-based conclusion: explain what might be advantages and disadvantages of using normalized ratings instead of the actual ratings."
   ]
  },
  {
   "cell_type": "markdown",
   "metadata": {},
   "source": [
    "A normalization helped us to reach a linear and more complex relationship between movie ratings. Normalization gave us a better insight on finding a rating of users and movies."
   ]
  },
  {
   "cell_type": "markdown",
   "metadata": {},
   "source": [
    "##### 5. [Extra credit] Create another new pandas dataframe, with standardized ratings for each user."
   ]
  },
  {
   "cell_type": "code",
   "execution_count": 52,
   "metadata": {},
   "outputs": [
    {
     "data": {
      "text/html": [
       "<div>\n",
       "<style>\n",
       "    .dataframe thead tr:only-child th {\n",
       "        text-align: right;\n",
       "    }\n",
       "\n",
       "    .dataframe thead th {\n",
       "        text-align: left;\n",
       "    }\n",
       "\n",
       "    .dataframe tbody tr th {\n",
       "        vertical-align: top;\n",
       "    }\n",
       "</style>\n",
       "<table border=\"1\" class=\"dataframe\">\n",
       "  <thead>\n",
       "    <tr style=\"text-align: right;\">\n",
       "      <th></th>\n",
       "      <th>Moana</th>\n",
       "      <th>Star Wars</th>\n",
       "      <th>Logan</th>\n",
       "      <th>Wonder Woman</th>\n",
       "      <th>Spider Man</th>\n",
       "      <th>John Wick</th>\n",
       "    </tr>\n",
       "    <tr>\n",
       "      <th>Reviewer_Name</th>\n",
       "      <th></th>\n",
       "      <th></th>\n",
       "      <th></th>\n",
       "      <th></th>\n",
       "      <th></th>\n",
       "      <th></th>\n",
       "    </tr>\n",
       "  </thead>\n",
       "  <tbody>\n",
       "    <tr>\n",
       "      <th>Max</th>\n",
       "      <td>NaN</td>\n",
       "      <td>1.161895</td>\n",
       "      <td>1.224745</td>\n",
       "      <td>-1.305582</td>\n",
       "      <td>0.866025</td>\n",
       "      <td>0.707107</td>\n",
       "    </tr>\n",
       "    <tr>\n",
       "      <th>Heather</th>\n",
       "      <td>1.024695</td>\n",
       "      <td>NaN</td>\n",
       "      <td>0.000000</td>\n",
       "      <td>0.783349</td>\n",
       "      <td>-0.866025</td>\n",
       "      <td>-0.707107</td>\n",
       "    </tr>\n",
       "    <tr>\n",
       "      <th>John</th>\n",
       "      <td>-0.146385</td>\n",
       "      <td>0.387298</td>\n",
       "      <td>NaN</td>\n",
       "      <td>0.783349</td>\n",
       "      <td>0.866025</td>\n",
       "      <td>-1.414214</td>\n",
       "    </tr>\n",
       "    <tr>\n",
       "      <th>Lawrence</th>\n",
       "      <td>0.439155</td>\n",
       "      <td>-0.387298</td>\n",
       "      <td>0.000000</td>\n",
       "      <td>NaN</td>\n",
       "      <td>-0.866025</td>\n",
       "      <td>0.707107</td>\n",
       "    </tr>\n",
       "    <tr>\n",
       "      <th>Alfred</th>\n",
       "      <td>-1.317465</td>\n",
       "      <td>-1.161895</td>\n",
       "      <td>-1.224745</td>\n",
       "      <td>-0.261116</td>\n",
       "      <td>NaN</td>\n",
       "      <td>0.707107</td>\n",
       "    </tr>\n",
       "  </tbody>\n",
       "</table>\n",
       "</div>"
      ],
      "text/plain": [
       "                  Moana  Star Wars     Logan  Wonder Woman  Spider Man  \\\n",
       "Reviewer_Name                                                            \n",
       "Max                 NaN   1.161895  1.224745     -1.305582    0.866025   \n",
       "Heather        1.024695        NaN  0.000000      0.783349   -0.866025   \n",
       "John          -0.146385   0.387298       NaN      0.783349    0.866025   \n",
       "Lawrence       0.439155  -0.387298  0.000000           NaN   -0.866025   \n",
       "Alfred        -1.317465  -1.161895 -1.224745     -0.261116         NaN   \n",
       "\n",
       "               John Wick  \n",
       "Reviewer_Name             \n",
       "Max             0.707107  \n",
       "Heather        -0.707107  \n",
       "John           -1.414214  \n",
       "Lawrence        0.707107  \n",
       "Alfred          0.707107  "
      ]
     },
     "execution_count": 52,
     "metadata": {},
     "output_type": "execute_result"
    }
   ],
   "source": [
    "standart_review_movies = (x - x.mean()) / (x.std())\n",
    "standart_review_movies"
   ]
  },
  {
   "cell_type": "markdown",
   "metadata": {},
   "source": [
    "##### 5.1 Once again, show the average ratings for each user and each movie."
   ]
  },
  {
   "cell_type": "code",
   "execution_count": 53,
   "metadata": {},
   "outputs": [
    {
     "data": {
      "text/plain": [
       "Moana           0.0\n",
       "Star Wars       0.0\n",
       "Logan           0.0\n",
       "Wonder Woman    0.0\n",
       "Spider Man      0.0\n",
       "John Wick       0.0\n",
       "dtype: float64"
      ]
     },
     "execution_count": 53,
     "metadata": {},
     "output_type": "execute_result"
    }
   ],
   "source": [
    "standardavgmovies = standart_review_movies.mean(axis=1).round(decimals=5)\n",
    "standardavgusers = standart_review_movies.mean().round(decimals=5)\n",
    "standardavgusers"
   ]
  },
  {
   "cell_type": "code",
   "execution_count": 54,
   "metadata": {},
   "outputs": [
    {
     "data": {
      "text/plain": [
       "Reviewer_Name\n",
       "Max         0.53084\n",
       "Heather     0.04698\n",
       "John        0.09521\n",
       "Lawrence   -0.02141\n",
       "Alfred     -0.65162\n",
       "dtype: float64"
      ]
     },
     "execution_count": 54,
     "metadata": {},
     "output_type": "execute_result"
    }
   ],
   "source": [
    "standardavgmovies"
   ]
  }
 ],
 "metadata": {
  "kernelspec": {
   "display_name": "Python 3",
   "language": "python",
   "name": "python3"
  },
  "language_info": {
   "codemirror_mode": {
    "name": "ipython",
    "version": 3
   },
   "file_extension": ".py",
   "mimetype": "text/x-python",
   "name": "python",
   "nbconvert_exporter": "python",
   "pygments_lexer": "ipython3",
   "version": "3.6.1"
  }
 },
 "nbformat": 4,
 "nbformat_minor": 2
}
